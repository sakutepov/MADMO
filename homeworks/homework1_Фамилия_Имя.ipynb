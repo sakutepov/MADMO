{
 "cells": [
  {
   "cell_type": "markdown",
   "metadata": {
    "id": "Lk1OkcD_NksS"
   },
   "source": [
    "## Домашнее задание 1\n",
    "### Основы Python и пакет NumPy\n",
    "---\n"
   ]
  },
  {
   "cell_type": "code",
   "execution_count": null,
   "metadata": {
    "id": "bw7rDQBbNksU"
   },
   "outputs": [],
   "source": [
    "import numpy as np\n",
    "import random\n",
    "import scipy.stats as sps"
   ]
  },
  {
   "cell_type": "markdown",
   "metadata": {
    "id": "rrRh2yo2PnqJ"
   },
   "source": [
    "## Задача 0\n",
    "в этом разделе нам хотелось бы увидеть базовые наваки в языке програмирования Python"
   ]
  },
  {
   "cell_type": "markdown",
   "metadata": {
    "id": "aRwaL84OQHeL"
   },
   "source": [
    "### __0.1__ \n",
    "Дано натуральное число. Требуется определить, является ли год с данным номером високосным. Если год является високосным, то выведите YES, иначе выведите NO. Напомним, что в соответствии с григорианским календарем, год является високосным, если его номер кратен 4, но не кратен 100, а также если он кратен 400."
   ]
  },
  {
   "cell_type": "code",
   "execution_count": null,
   "metadata": {
    "id": "4bvG6wnnPnKb"
   },
   "outputs": [],
   "source": [
    "def is_leap_year(year):\n",
    "  pass"
   ]
  },
  {
   "cell_type": "code",
   "execution_count": null,
   "metadata": {
    "colab": {
     "base_uri": "https://localhost:8080/",
     "height": 84
    },
    "executionInfo": {
     "elapsed": 751,
     "status": "ok",
     "timestamp": 1601070864913,
     "user": {
      "displayName": "Тимур Венерович Аминов",
      "photoUrl": "",
      "userId": "01767416500508857561"
     },
     "user_tz": -180
    },
    "id": "NsocS3ebQoHh",
    "outputId": "10dffbda-7789-4716-aa10-bdd3a7c23b1e"
   },
   "outputs": [],
   "source": [
    "is_leap_year(1000)\n",
    "is_leap_year(400)\n",
    "is_leap_year(1001)\n",
    "is_leap_year(1004)"
   ]
  },
  {
   "cell_type": "markdown",
   "metadata": {
    "id": "NIhm6JkhQeLB"
   },
   "source": [
    "### __0.2__\n",
    "Дано натуральное число. Найдите число десятков в его десятичной записи."
   ]
  },
  {
   "cell_type": "code",
   "execution_count": null,
   "metadata": {
    "id": "MGSc1ZOUQz_p"
   },
   "outputs": [],
   "source": [
    "def num_decs(number):\n",
    "  pass"
   ]
  },
  {
   "cell_type": "code",
   "execution_count": null,
   "metadata": {
    "colab": {
     "base_uri": "https://localhost:8080/",
     "height": 50
    },
    "executionInfo": {
     "elapsed": 711,
     "status": "ok",
     "timestamp": 1601070920325,
     "user": {
      "displayName": "Тимур Венерович Аминов",
      "photoUrl": "",
      "userId": "01767416500508857561"
     },
     "user_tz": -180
    },
    "id": "XFdGIDJiQ1Mx",
    "outputId": "3de2135c-3f73-4b88-de09-fa2dca1387b3"
   },
   "outputs": [],
   "source": [
    "num_decs(15634780)\n",
    "num_decs(101)"
   ]
  },
  {
   "cell_type": "markdown",
   "metadata": {
    "id": "SnCkn9otRALI"
   },
   "source": [
    "### __0.3__\n",
    "По данному натуральном n вычислите сумму 1!+2!+3!+...+n!. В решении этой задачи можно использовать только один цикл. Пользоваться математической библиотекой math в этой задаче запрещено."
   ]
  },
  {
   "cell_type": "code",
   "execution_count": null,
   "metadata": {
    "id": "ApC12HmnQ56h"
   },
   "outputs": [],
   "source": [
    "def factorial_sum(n):\n",
    "  pass\n",
    "        "
   ]
  },
  {
   "cell_type": "code",
   "execution_count": null,
   "metadata": {
    "colab": {
     "base_uri": "https://localhost:8080/",
     "height": 50
    },
    "executionInfo": {
     "elapsed": 702,
     "status": "ok",
     "timestamp": 1601070987396,
     "user": {
      "displayName": "Тимур Венерович Аминов",
      "photoUrl": "",
      "userId": "01767416500508857561"
     },
     "user_tz": -180
    },
    "id": "sAraDt-4RF1e",
    "outputId": "1f72980b-c28e-4ced-ad2f-0a6f808f1882"
   },
   "outputs": [],
   "source": [
    "factorial_sum(4)\n",
    "factorial_sum(10)"
   ]
  },
  {
   "cell_type": "markdown",
   "metadata": {
    "id": "SPxjrCG0RNlZ"
   },
   "source": [
    "### __0.4__\n",
    " Определить, является ли введённая строка палиндромом (то есть одинаково читается с обеих сторон)."
   ]
  },
  {
   "cell_type": "code",
   "execution_count": null,
   "metadata": {
    "id": "7nSVAQ8cRUiK"
   },
   "outputs": [],
   "source": [
    "def is_palindrome(s):\n",
    "  pass"
   ]
  },
  {
   "cell_type": "code",
   "execution_count": null,
   "metadata": {
    "colab": {
     "base_uri": "https://localhost:8080/",
     "height": 50
    },
    "executionInfo": {
     "elapsed": 725,
     "status": "ok",
     "timestamp": 1601071067402,
     "user": {
      "displayName": "Тимур Венерович Аминов",
      "photoUrl": "",
      "userId": "01767416500508857561"
     },
     "user_tz": -180
    },
    "id": "Davel32iRZTU",
    "outputId": "d5eada62-43cd-4a74-8626-bf054ac971ca"
   },
   "outputs": [],
   "source": [
    "print(is_palindrome(\"бащаб\"))\n",
    "print(is_palindrome(\"А роза упала на лапу Азора\"))"
   ]
  },
  {
   "cell_type": "markdown",
   "metadata": {
    "id": "PCun7MH9Nksh"
   },
   "source": [
    "# Задача 1\n",
    "В первой задаче вам предлагается перемножить две матрицы двумя способами -- без использования пакета ***numpy*** и с ним."
   ]
  },
  {
   "cell_type": "code",
   "execution_count": null,
   "metadata": {
    "id": "3-251nTONksi"
   },
   "outputs": [],
   "source": [
    "# Для генерации матриц используем фукнцию random -- она используется для генерации случайных объектов \n",
    "# функция sample создает случайную выборку. В качестве аргумента ей передается кортеж (i,j), здесь i -- число строк,\n",
    "# j -- число столбцов.\n",
    "a = np.random.sample((100,1000))\n",
    "b = np.random.sample((1000,100))\n",
    "# выведите размерность (ранг) каждой матрицы с помощью функции ndim.\n",
    "# Используйте функцию shape, что она вывела?\n",
    "# ========\n",
    "# тут можно писать код \n",
    "# ========"
   ]
  },
  {
   "cell_type": "code",
   "execution_count": null,
   "metadata": {
    "id": "5yaqC7_VNksn"
   },
   "outputs": [],
   "source": [
    "def mult(a, b):\n",
    "    # здесь напишите перемножение матриц без \n",
    "    # использования NumPy (с помощью тройного цикла) и верните результат "
   ]
  },
  {
   "cell_type": "code",
   "execution_count": null,
   "metadata": {
    "id": "st8qlstGNkss"
   },
   "outputs": [],
   "source": [
    "def np_mult(a, b):\n",
    "    # здесь напишите перемножение матриц с\n",
    "    # использованием матричного умножения из пакета NumPy и верните результат"
   ]
  },
  {
   "cell_type": "code",
   "execution_count": null,
   "metadata": {
    "id": "csDxiysnNksw"
   },
   "outputs": [],
   "source": [
    "# Превратим матрицы в листы, чтобы протестировать функцию без np\n",
    "a_list = [[x for x in row] for row in a]\n",
    "b_list = [[x for x in row] for row in b]"
   ]
  },
  {
   "cell_type": "code",
   "execution_count": null,
   "metadata": {
    "id": "7R2_awgeNks2"
   },
   "outputs": [],
   "source": [
    "%%time\n",
    "# засечем время работы функции без NumPy\n",
    "mult(a_list, b_list)"
   ]
  },
  {
   "cell_type": "code",
   "execution_count": null,
   "metadata": {
    "id": "TOpYBsdVNks8"
   },
   "outputs": [],
   "source": [
    "%%time\n",
    "# засечем время работы функции с NumPy\n",
    "np_mult(a, b)"
   ]
  },
  {
   "cell_type": "markdown",
   "metadata": {
    "id": "o_vn0V4pNktG"
   },
   "source": [
    "## Задача 2\n",
    "Напишите функцию, которая по данной последовательности $\\{A_i\\}_{i=1}^n$ строит последовательность $S_n$, где $S_k = \\frac{A_1 + ... + A_k}{k}$.  \n",
    "Аналогично -- с помощью библиотеки **NumPy** и без нее. Сравните скорость, объясните результат."
   ]
  },
  {
   "cell_type": "code",
   "execution_count": null,
   "metadata": {
    "id": "sYMsfkHcNktI"
   },
   "outputs": [],
   "source": [
    "# функция, решающая задачу с помощью NumPy\n",
    "def sec_av(A):\n",
    "    # Ваш код здесь"
   ]
  },
  {
   "cell_type": "code",
   "execution_count": null,
   "metadata": {
    "id": "b6TZre0BNktP"
   },
   "outputs": [],
   "source": [
    "# функция без NumPy\n",
    "def stupid_sec_av(A):\n",
    "    # Ваш код здесь\n",
    "\n",
    "# зададим некоторую последовательность и проверим ее на ваших функциях. \n",
    "# Первая функция должна работать ~ в 50 раз быстрее\n",
    "A = sps.uniform.rvs(size=10 ** 6) \n",
    "A_list = list(A)\n",
    "\n",
    "%time S1 = sec_av(A)\n",
    "%time S2 = stupid_sec_av(A_list)\n",
    "#проверим корректность:\n",
    "np.abs(S1 - S2).sum()"
   ]
  },
  {
   "cell_type": "markdown",
   "metadata": {
    "id": "NpKyKTQiNktY"
   },
   "source": [
    "## Задача 3\n",
    "\n",
    "Пусть задан некоторый массив $X$. Надо построить новый массив, где все элементы с нечетными индексами требуется заменить на число $a$ (если оно не указано, то на 1). Все элементы с четными индексами исходного массива нужно возвести в куб и записать в обратном порядке относительно позиций этих элементов. Массив $X$ при этом должен остаться без изменений. В конце требуется слить (конкатенировать) массив X с преобразованным X и вывести в обратном порядке. "
   ]
  },
  {
   "cell_type": "code",
   "execution_count": null,
   "metadata": {
    "id": "xKlqjM3ZNktZ"
   },
   "outputs": [],
   "source": [
    "# функция, решающая задачу с помощью NumPy\n",
    "def transformation(X, a=1):\n",
    "    # Ваш код здесь\n",
    "    return Y"
   ]
  },
  {
   "cell_type": "code",
   "execution_count": null,
   "metadata": {
    "id": "2wfUAqftNktd"
   },
   "outputs": [],
   "source": [
    "# функция, решающая задачу  без NumPy\n",
    "def stupid_transformation(X, a=1):\n",
    "    # Ваш код здесь\n",
    "    return Y"
   ]
  },
  {
   "cell_type": "code",
   "execution_count": null,
   "metadata": {
    "id": "dDvUC_Y4Nktj"
   },
   "outputs": [],
   "source": [
    "X = sps.uniform.rvs(size=10 ** 3)\n",
    "X_list = list(X)\n",
    "# здесь код эффективнее примерно в 20 раз. \n",
    "# если Вы вдруг соберетесь печатать массив без np -- лучше сначала посмотрите на его размер\n",
    "%time S1 = transformation(X)\n",
    "%time S2 = stupid_transformation(X_list)\n",
    "# проверим корректность:\n",
    "print(np.abs(S1 - S2).sum())"
   ]
  },
  {
   "cell_type": "markdown",
   "metadata": {
    "id": "P48BBkwGNktp"
   },
   "source": [
    "Почему методы ***numpy*** оказываются эффективнее?"
   ]
  },
  {
   "cell_type": "code",
   "execution_count": null,
   "metadata": {
    "id": "gNfL0O-8Nktq"
   },
   "outputs": [],
   "source": [
    "# Ваш ответ"
   ]
  },
  {
   "cell_type": "markdown",
   "metadata": {
    "id": "6xBoXLdsNktx"
   },
   "source": [
    "## Дополнительные задачи"
   ]
  },
  {
   "cell_type": "markdown",
   "metadata": {
    "id": "8KPh1aGlNkty"
   },
   "source": [
    "Дополнительные задачи подразумевают, что Вы самостоятельно разберётесь в некоторых функциях ***numpy***, чтобы их сделать, но в то же время не являются обязательными."
   ]
  },
  {
   "cell_type": "markdown",
   "metadata": {
    "id": "7T1R_m0kNktz"
   },
   "source": [
    "## Задача 4*"
   ]
  },
  {
   "cell_type": "markdown",
   "metadata": {
    "id": "0TryLBTYNkt0"
   },
   "source": [
    "Дана функция двух переменных: $f(x, y) = sin(x)cos(y)$ (это просто такой красивый 3D-график), а также дана функция для отрисовки $f(x, y)$ (`draw_f()`), которая принимает на вход двумерную сетку, на которой будет вычисляться функция.  \n",
    "\n",
    "Вам нужно разобраться в том, как строить такие сетки (подсказка - это одна конкретная функция ***numpy***, найти которую можно в ноутбуке, посвященному matplotlib), и подать такую сетку на вход функции отрисовки."
   ]
  },
  {
   "cell_type": "code",
   "execution_count": null,
   "metadata": {
    "id": "kgceahWRNkt1"
   },
   "outputs": [],
   "source": [
    "from matplotlib import pyplot as plt\n",
    "from mpl_toolkits.mplot3d import Axes3D\n",
    "%matplotlib inline\n",
    "\n",
    "def f(x, y):\n",
    "    '''Функция двух переменных'''\n",
    "    return np.sin(x) * np.cos(y)\n",
    "\n",
    "def draw_f(grid_x, grid_y):\n",
    "    '''Функция отрисовки функции f(x, y)'''\n",
    "    fig = plt.figure(figsize=(10, 8))\n",
    "    ax = Axes3D(fig)\n",
    "    ax.plot_surface(grid_x, grid_y, f(grid_x, grid_y), cmap='inferno')\n",
    "    plt.show()"
   ]
  },
  {
   "cell_type": "code",
   "execution_count": null,
   "metadata": {
    "id": "Y48sxrc5Nkt7"
   },
   "outputs": [],
   "source": [
    "grid_x, grid_y = # Ваш ответ\n",
    "\n",
    "draw_f(grid_x, grid_y)"
   ]
  },
  {
   "cell_type": "markdown",
   "metadata": {
    "id": "H_niDjnHNkuD"
   },
   "source": [
    "## Задача 5*"
   ]
  },
  {
   "cell_type": "markdown",
   "metadata": {
    "id": "gZ-lPWUeNkuE"
   },
   "source": [
    "Вам дана картинка. При загрузке её размерность равна 3: **(w, h, num_channels)**, где **w** - ширина картинки в пикселях, **h** - высота картинки в пикселях, **num_channels** - количество каналов *(R, G, B, alpha)*.\n",
    "\n",
    "Вам нужно \"развернуть\" картинку в одномерный массив размера w \\* h \\* num_channels, написав **одну строку кода**."
   ]
  },
  {
   "cell_type": "code",
   "execution_count": null,
   "metadata": {
    "id": "XU2leshVNkuF"
   },
   "outputs": [],
   "source": [
    "from matplotlib import pyplot as plt\n",
    "%matplotlib inline"
   ]
  },
  {
   "cell_type": "markdown",
   "metadata": {
    "id": "AzsiqL5INkuL"
   },
   "source": [
    "Загрузим картинку. Если эта ячейка не сработает, смотрите дальше:"
   ]
  },
  {
   "cell_type": "code",
   "execution_count": null,
   "metadata": {
    "id": "-vEFkpLpNkuN"
   },
   "outputs": [],
   "source": [
    "path_to_image = './image.jpg'\n",
    "image_array = plt.imread(path_to_image)"
   ]
  },
  {
   "cell_type": "markdown",
   "metadata": {
    "id": "Q1Qgf7e8NkuU"
   },
   "source": [
    "Если Вы работаете в google colab или по каким-то еще причинам картинка с диска не загрузилась, можно попробовать загрузить через ссылку в интернете:"
   ]
  },
  {
   "cell_type": "code",
   "execution_count": null,
   "metadata": {},
   "outputs": [],
   "source": [
    "import numpy as np\n",
    "import matplotlib.pyplot as plt"
   ]
  },
  {
   "cell_type": "code",
   "execution_count": null,
   "metadata": {
    "id": "7itlxyIGNkuV"
   },
   "outputs": [],
   "source": [
    "from PIL import Image\n",
    "import requests\n",
    "from io import BytesIO\n",
    "\n",
    "path_to_image = '__enter your image URL here__'\n",
    "# например: https://github.com/hocop/sberbank_madmo/raw/master/day_1/homework/image.jpg\n",
    "\n",
    "response = requests.get(path_to_image)\n",
    "img = Image.open(BytesIO(response.content))\n",
    "\n",
    "image_array = np.array(img)"
   ]
  },
  {
   "cell_type": "markdown",
   "metadata": {
    "id": "YMUuRfg9NkuZ"
   },
   "source": [
    "В любом случае, у Вас должен появиться объект `image_array`.  \n",
    "Распечатаем его на экране:"
   ]
  },
  {
   "cell_type": "code",
   "execution_count": null,
   "metadata": {
    "id": "-7VAUtHXNkub"
   },
   "outputs": [],
   "source": [
    "plt.imshow(image_array);"
   ]
  },
  {
   "cell_type": "code",
   "execution_count": null,
   "metadata": {
    "id": "04-IqnC4Nkug"
   },
   "outputs": [],
   "source": [
    "# Ваш код здесь"
   ]
  },
  {
   "cell_type": "code",
   "execution_count": null,
   "metadata": {
    "id": "Msj4NwVFNkuj"
   },
   "outputs": [],
   "source": [
    "# Здесь выведите размерность нового массива"
   ]
  },
  {
   "cell_type": "code",
   "execution_count": null,
   "metadata": {
    "id": "IWUa4rONNkum"
   },
   "outputs": [],
   "source": []
  },
  {
   "cell_type": "markdown",
   "metadata": {
    "id": "hon4ZzNxRsAG"
   },
   "source": [
    "## Задача 6*\n",
    "Дан текст в виде строки. Напишите функцию, которая возвращает словарь, где ключами являются уникальные слова из этого текста, а значениями - число раз, которое данное слово встретилось в тексте. Считать, что слова разделяются пробелами.\n",
    "\n",
    "Советую использовать модуль collections (он не требует дополнительной установки) и структуру данных Counter из него https://pythonworld.ru/moduli/modul-collections.html"
   ]
  },
  {
   "cell_type": "code",
   "execution_count": null,
   "metadata": {},
   "outputs": [],
   "source": [
    "from collections import Counter"
   ]
  },
  {
   "cell_type": "code",
   "execution_count": null,
   "metadata": {
    "id": "g0bD-LK4Ry4X"
   },
   "outputs": [],
   "source": [
    "def count_tokens(text):\n",
    "  pass"
   ]
  },
  {
   "cell_type": "code",
   "execution_count": null,
   "metadata": {
    "colab": {
     "base_uri": "https://localhost:8080/",
     "height": 34
    },
    "executionInfo": {
     "elapsed": 735,
     "status": "ok",
     "timestamp": 1601071177973,
     "user": {
      "displayName": "Тимур Венерович Аминов",
      "photoUrl": "",
      "userId": "01767416500508857561"
     },
     "user_tz": -180
    },
    "id": "3NNZq0XQR0yr",
    "outputId": "0f81fe80-9f6b-473e-c53b-85f73387c351"
   },
   "outputs": [],
   "source": [
    "count_tokens(\"один два три пять четыре пять\")"
   ]
  },
  {
   "cell_type": "markdown",
   "metadata": {},
   "source": [
    "# Очень бонусная часть \n",
    "за решение этих задач количество бонусных баллов будет начисляться непропорционально потраченному времени. "
   ]
  },
  {
   "cell_type": "markdown",
   "metadata": {},
   "source": [
    "## Задача 7*\n",
    "\n",
    "Составить описание класса для объектов-векторов, задаваемых координатами концов в N-мерном пространстве. Основой является список значений координат вектора. Обеспечить операции сложения и вычитания векторов с получением нового вектора (суммы или разности), вычисления скалярного произведения двух векторов, длины вектора, косинуса угла между векторами. Все операции, которые можно перегрузить с помощью магических методов, должны быть реализованы именно через них.\n",
    "\n",
    "NumPy использовать нельзя, скорость работы методов в этом задании проверяться не будет, только правильность ответов"
   ]
  },
  {
   "cell_type": "code",
   "execution_count": 1,
   "metadata": {},
   "outputs": [],
   "source": [
    "class Vector(object):\n",
    "    def __init__(self, vector_dim_values, val=0):\n",
    "        \"\"\"\n",
    "            Необходимо создать вектор размерности vector_dim_values, \n",
    "            заполнить все его координаты значениями val  \n",
    "            и сохранить это в атрибут класса self.vector\n",
    "        \"\"\"\n",
    "        pass\n",
    "        \n",
    "    def __add__(self, other):\n",
    "        '''\n",
    "            Необходимо найти (поэлементную) сумму векторов self и other и вернуть его\n",
    "        '''\n",
    "        pass\n",
    "        \n",
    "    def __sub__(self, other):\n",
    "        '''\n",
    "            Аналогично __add__, но разность\n",
    "        '''\n",
    "        pass\n",
    "        \n",
    "    def __mul__(self, other):\n",
    "        \"\"\"\n",
    "            Необходимо найти скалярное произведение векторов self и other и вернуть результат\n",
    "        \"\"\"\n",
    "        pass\n",
    "    \n",
    "    def __len__(self):\n",
    "        pass\n",
    "    \n",
    "    def __str__(self):\n",
    "        \"\"\"\n",
    "            Вспомогательный метод для проверки результатов\n",
    "            Можно использовать в своем коде как print(str(vector))\n",
    "        \"\"\"\n",
    "        return str(self.vector)\n",
    "    \n",
    "    def cosine(self, other):\n",
    "        \"\"\"\n",
    "            Необходимо вычислить косинус угла между векторами и вернуть результат. \n",
    "            Косинус вычисляется по формуле:\n",
    "                cos(a, b) = <a, b> / sqrt(<a, a> <b, b>),\n",
    "            где <a, b> - скалярное произведение векторов a и b.\n",
    "        \"\"\"\n",
    "        pass"
   ]
  },
  {
   "cell_type": "code",
   "execution_count": null,
   "metadata": {},
   "outputs": [],
   "source": []
  }
 ],
 "metadata": {
  "anaconda-cloud": {},
  "colab": {
   "name": "homework1_Фамилия_Имя.ipynb",
   "provenance": [
    {
     "file_id": "https://github.com/hocop/sberbank_madmo/blob/master/day_1/homework/homework1_%D0%A4%D0%B0%D0%BC%D0%B8%D0%BB%D0%B8%D1%8F_%D0%98%D0%BC%D1%8F.ipynb",
     "timestamp": 1601070068173
    }
   ]
  },
  "kernelspec": {
   "display_name": "Python 3",
   "language": "python",
   "name": "python3"
  },
  "language_info": {
   "codemirror_mode": {
    "name": "ipython",
    "version": 3
   },
   "file_extension": ".py",
   "mimetype": "text/x-python",
   "name": "python",
   "nbconvert_exporter": "python",
   "pygments_lexer": "ipython3",
   "version": "3.8.5"
  }
 },
 "nbformat": 4,
 "nbformat_minor": 1
}
